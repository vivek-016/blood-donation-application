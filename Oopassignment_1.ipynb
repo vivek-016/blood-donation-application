{
  "nbformat": 4,
  "nbformat_minor": 0,
  "metadata": {
    "colab": {
      "name": "Oopassignment-1.ipynb",
      "provenance": [],
      "authorship_tag": "ABX9TyM3KIT3We7FS4Hpq/AAUClI",
      "include_colab_link": true
    },
    "kernelspec": {
      "name": "python3",
      "display_name": "Python 3"
    },
    "language_info": {
      "name": "python"
    }
  },
  "cells": [
    {
      "cell_type": "markdown",
      "metadata": {
        "id": "view-in-github",
        "colab_type": "text"
      },
      "source": [
        "<a href=\"https://colab.research.google.com/github/vivek-016/blood-donation-application/blob/main/Oopassignment_1.ipynb\" target=\"_parent\"><img src=\"https://colab.research.google.com/assets/colab-badge.svg\" alt=\"Open In Colab\"/></a>"
      ]
    },
    {
      "cell_type": "code",
      "metadata": {
        "colab": {
          "base_uri": "https://localhost:8080/"
        },
        "id": "Hg9zZsh6RT8Q",
        "outputId": "7138ef53-fd56-4a03-a433-a583df71f0b7"
      },
      "source": [
        "#problem I\n",
        "def is_leap(year):\n",
        "  if year % 400 == 0:\n",
        "    leap = True\n",
        "  elif year % 100 == 0:\n",
        "    leap = False\n",
        "  elif year % 4 == 0:\n",
        "    leap = True\n",
        "  else:\n",
        "    leap = False\n",
        "\n",
        "  return leap\n",
        "\n",
        "print('Enter the year:')\n",
        "year = int(input())\n",
        "is_leap(year)"
      ],
      "execution_count": 4,
      "outputs": [
        {
          "name": "stdout",
          "output_type": "stream",
          "text": [
            "Enter the year:\n",
            "2012\n"
          ]
        },
        {
          "output_type": "execute_result",
          "data": {
            "text/plain": [
              "True"
            ]
          },
          "metadata": {},
          "execution_count": 4
        }
      ]
    },
    {
      "cell_type": "code",
      "metadata": {
        "colab": {
          "base_uri": "https://localhost:8080/"
        },
        "id": "kQpqxalGT3ur",
        "outputId": "c9be85ab-c996-46e6-965d-2ee8a3b1b52a"
      },
      "source": [
        "#Problem II\n",
        "print('enter the integer:')\n",
        "n=int(input())\n",
        "if n % 2 == 1:\n",
        "  print('Weird')\n",
        "elif n % 2 == 0 and 2 <= n <= 5:\n",
        "  print('Not Weird') \n",
        "elif n % 2 == 0 and 6 <= n <= 20:\n",
        "  print('Weird')\n",
        "else:\n",
        "  print('Not Weird')    "
      ],
      "execution_count": 9,
      "outputs": [
        {
          "output_type": "stream",
          "name": "stdout",
          "text": [
            "enter the integer:\n",
            "888\n",
            "Not Weird\n"
          ]
        }
      ]
    },
    {
      "cell_type": "code",
      "metadata": {
        "colab": {
          "base_uri": "https://localhost:8080/"
        },
        "id": "IvrYIiZqu8nF",
        "outputId": "5de50568-cc18-4a6b-ce1c-3eb139e5f178"
      },
      "source": [
        "#Problem III\n",
        "Arrivals = ['Hardik','Rahul','Virat','Rishabh','Mahi','Rohit','Rahane']\n",
        "def is_fashionably_late(Arrivals , name):\n",
        "  No_of_arrivals = len(Arrivals)\n",
        "  if No_of_arrivals % 2 == 0:\n",
        "    Half_of_arrivals = No_of_arrivals // 2 + 0\n",
        "  elif No_of_arrivals % 2 == 1:\n",
        "    Half_of_arrivals = No_of_arrivals // 2 + 1\n",
        "  position = Arrivals.index(name) + 1\n",
        "  if Half_of_arrivals < position < No_of_arrivals:\n",
        "    print(name , 'is fashionably late')\n",
        "  else:\n",
        "    print(name , 'is not fashionably late')\n",
        "print('enter the Arrival name:')    \n",
        "name = str(input())     \n",
        "is_fashionably_late(Arrivals , name)      "
      ],
      "execution_count": 27,
      "outputs": [
        {
          "output_type": "stream",
          "name": "stdout",
          "text": [
            "enter the Arrival name:\n",
            "Rohit\n",
            "Rohit is fashionably late\n"
          ]
        }
      ]
    },
    {
      "cell_type": "code",
      "metadata": {
        "colab": {
          "base_uri": "https://localhost:8080/"
        },
        "id": "W0FjpnM4Qa04",
        "outputId": "3bcd846a-18c7-4550-d3a1-26b4daa0df74"
      },
      "source": [
        "#Problem V\n",
        "BP= int(input(\"Enter the the BP of the employee: \"))\n",
        "DA= (BP*40)/100\n",
        "HRA= (BP*20)/100\n",
        "GP= BP+DA+HRA\n",
        "print(GP)\n"
      ],
      "execution_count": 33,
      "outputs": [
        {
          "output_type": "stream",
          "name": "stdout",
          "text": [
            "Enter the the BP of the employee: 500\n",
            "800.0\n"
          ]
        }
      ]
    },
    {
      "cell_type": "code",
      "metadata": {
        "colab": {
          "base_uri": "https://localhost:8080/"
        },
        "id": "mNFXlXsuSzao",
        "outputId": "2c7f7787-966d-4784-86f5-45b21f83e19c"
      },
      "source": [
        "#Problem IV\n",
        "def word_search(article_list, keyword):\n",
        "   \n",
        "    keyword = keyword.lower().strip('.,')\n",
        "\n",
        "    result_list = []\n",
        "    for i, article in enumerate(article_list):\n",
        "        words = article.lower().strip('.,').split()\n",
        "\n",
        "        if keyword in words:\n",
        "            result_list.append((i, article))\n",
        "\n",
        "    return result_list\n",
        "article_list = [\"The Learn Python Challenge Rohit.\", \"They bought a car\", \"bangalore\"]\n",
        "word_search(article_list, 'bangalore')"
      ],
      "execution_count": 36,
      "outputs": [
        {
          "output_type": "execute_result",
          "data": {
            "text/plain": [
              "[(2, 'bangalore')]"
            ]
          },
          "metadata": {},
          "execution_count": 36
        }
      ]
    }
  ]
}